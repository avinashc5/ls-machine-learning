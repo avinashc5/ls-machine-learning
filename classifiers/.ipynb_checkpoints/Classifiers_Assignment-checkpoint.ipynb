{
 "cells": [
  {
   "cell_type": "markdown",
   "metadata": {
    "id": "HJM8Y9mh5o4H"
   },
   "source": [
    "#WELCOME\n",
    "In this Assignment, you'll use **Classifier** to predict the output. You are allowed to write/edit between the\n",
    "```# START CODE HERE``` & ```# END CODE HERE``` only.<br>\n",
    "Don't edit the test cells otherwise you'd be failed in the assignment.\n",
    "\n",
    "Upload the ```utils.zip``` file before running the 1st cell.\n",
    "[Demo](https://drive.google.com/file/d/1ebkQR6ikjGottmxa5KL83ZWdjTLvRxbm/view?usp=share_link)\n",
    "\n",
    "**BEST OF LUCK**"
   ]
  },
  {
   "cell_type": "markdown",
   "metadata": {
    "id": "cEl-4aFCkdsB"
   },
   "source": [
    "**RUN THIS CODE TO UNIZP THE REQUIRED FILES**"
   ]
  },
  {
   "cell_type": "code",
   "execution_count": null,
   "metadata": {
    "id": "mCdV1dV8kawl"
   },
   "outputs": [],
   "source": [
    "!unzip -j /content/utils.zip -d."
   ]
  },
  {
   "cell_type": "markdown",
   "metadata": {
    "id": "VA4ZUSGu0Ox3"
   },
   "source": [
    "# Dataset Loading and Pre-Processing"
   ]
  },
  {
   "cell_type": "code",
   "execution_count": null,
   "metadata": {
    "id": "_tP5JsNsqBsI"
   },
   "outputs": [],
   "source": [
    "import pandas as pd\n",
    "data = pd.read_csv(\"/content/weather_classification_data.csv\")"
   ]
  },
  {
   "cell_type": "markdown",
   "metadata": {
    "id": "MBHkfY1c0gO6"
   },
   "source": [
    "## Data Info\n",
    "```data.info``` gives info about data-types and number of null objects.  \n",
    "There are no null data, no need to remove any."
   ]
  },
  {
   "cell_type": "code",
   "execution_count": null,
   "metadata": {
    "id": "O-myJ9LmqG8J"
   },
   "outputs": [],
   "source": [
    "data.info()"
   ]
  },
  {
   "cell_type": "markdown",
   "metadata": {
    "id": "98kT9K8a1LF9"
   },
   "source": [
    "## Data Shuffling\n",
    "Data Shuffling removes any bias present and creates uniform distribution."
   ]
  },
  {
   "cell_type": "code",
   "execution_count": null,
   "metadata": {
    "id": "DJ6bkcTbz8kP"
   },
   "outputs": [],
   "source": [
    "from sklearn.utils import shuffle\n",
    "data = shuffle(data)\n",
    "data.head()"
   ]
  },
  {
   "cell_type": "markdown",
   "metadata": {
    "id": "7vKEzz9j19WQ"
   },
   "source": [
    "## Scaling and Labeling\n",
    "Machine can't understand string so all the object datatypes need to be LABELED with integers.<br><br>\n",
    "Why SCALING?<br>\n",
    "You might have noticed one column contains data with large values (of order 1000) whereas some column contain small value data (of order 10). As a result, large value columns get more power/importance than others. To remove this disparity we scaled them to same order/values."
   ]
  },
  {
   "cell_type": "markdown",
   "metadata": {
    "id": "TBg-lPJgzM4Y"
   },
   "source": [
    "**CODE**\n",
    "\n",
    "We need to find the columns with object datatypes.\n",
    "\n",
    "HINT: Use ```data.select_dtypes().columns.tolist()```<br>Reference: [w3schools](https://www.w3schools.com/python/pandas/ref_df_select_dtypes.asp#:~:text=The%20select_dtypes()%20method%20returns,the%20specified%20dtype(s).&text=Note%3A%20You%20must%20specify%20at,you%20will%20get%20an%20error.)"
   ]
  },
  {
   "cell_type": "code",
   "execution_count": null,
   "metadata": {
    "id": "cIIKd53NpRKU"
   },
   "outputs": [],
   "source": [
    "# START CODE HERE\n",
    "object_columns = None\n",
    "non_object_columns = None\n",
    "# END CODE HERE\n",
    "print(f\"Object Columns: {object_columns}\\nNon Object Columns: {non_object_columns}\")"
   ]
  },
  {
   "cell_type": "markdown",
   "metadata": {
    "id": "KYlrJpdaAyKH"
   },
   "source": [
    "**TEST** (DON'T EDIT THIS CELL)"
   ]
  },
  {
   "cell_type": "code",
   "execution_count": null,
   "metadata": {
    "id": "z4-pWLR5_fVf"
   },
   "outputs": [],
   "source": [
    "# DON'T EDIT THIS CELL\n",
    "if (object_columns == ['Cloud Cover', 'Season', 'Location', 'Weather Type'] and non_object_columns == ['Temperature', 'Humidity', 'Wind Speed', 'Precipitation (%)', 'Atmospheric Pressure', 'UV Index', 'Visibility (km)']):\n",
    "  print(f\"\\033[32mTest Passed\\033[0m\")\n",
    "else:\n",
    "  print(f\"\\033[31mTest Failed\\033[0m\")"
   ]
  },
  {
   "cell_type": "markdown",
   "metadata": {
    "id": "reVHprk6z_nD"
   },
   "source": [
    "**CODE**\n",
    "\n",
    "We need to convert the object-type columns data into integral labels and scale the non-object-type columns data.\n",
    "\n",
    "HINT: Use ```ColumnTransformer()```<br>Reference: [scikit-learn](https://scikit-learn.org/stable/modules/generated/sklearn.compose.ColumnTransformer.html), [ChatGPT](https://chatgpt.com/c/7f3c1b02-5da0-4c34-bdb2-d999dccb9c2f)"
   ]
  },
  {
   "cell_type": "code",
   "execution_count": null,
   "metadata": {
    "id": "kVT5qfqarRhF"
   },
   "outputs": [],
   "source": [
    "from sklearn.preprocessing import OrdinalEncoder, StandardScaler\n",
    "from sklearn.compose import ColumnTransformer\n",
    "\n",
    "# START CODE HERE\n",
    "\n",
    "column_transformer = None\n",
    "\n",
    "# Fit and transform the data\n",
    "data_scaled_labeled = None\n",
    "\n",
    "# END CODE HERE\n",
    "\n",
    "all_columns = object_columns + non_object_columns\n",
    "\n",
    "# Create the new DataFrame\n",
    "data_scaled_labeled = pd.DataFrame(data_scaled_labeled, columns=all_columns)"
   ]
  },
  {
   "cell_type": "markdown",
   "metadata": {
    "id": "2AvKGjfJk3cY"
   },
   "source": [
    "**TEST** (DON'T EDIT THIS CELL)"
   ]
  },
  {
   "cell_type": "code",
   "execution_count": null,
   "metadata": {
    "id": "7mT4H6o5D-mN"
   },
   "outputs": [],
   "source": [
    "# DON'T EDIT THIS CELL\n",
    "\n",
    "data_scaled_labeled_check = pd.read_csv(\"/content/data_scaled_labeled_check.csv\")\n",
    "import numpy as np\n",
    "data_scaled_labeled_values = np.sort(data_scaled_labeled.values,axis=0)\n",
    "data_scaled_labeled_check_values = np.sort(data_scaled_labeled_check.values,axis=0)\n",
    "if np.allclose(data_scaled_labeled_values, data_scaled_labeled_check_values, equal_nan=True):\n",
    "  print(f\"\\033[32mTest Passed\\033[0m\")\n",
    "else:\n",
    "  print(f\"\\033[31mTest Failed\\033[0m\")"
   ]
  },
  {
   "cell_type": "markdown",
   "metadata": {
    "id": "wpIxEziM2EYr"
   },
   "source": [
    "## Data Splitting"
   ]
  },
  {
   "cell_type": "markdown",
   "metadata": {
    "id": "GKCxivFq1rjB"
   },
   "source": [
    "**CODE**\n",
    "\n",
    "We need to drop the Weather Type column from data_scaled_labeled to get the X and pick Weather Type column to get Y\n",
    "\n",
    "Use 90-10 split of data, i.e. 90% for training, 10% for testing"
   ]
  },
  {
   "cell_type": "code",
   "execution_count": null,
   "metadata": {
    "id": "e-gDICS-mZYG"
   },
   "outputs": [],
   "source": [
    "X = None\n",
    "y = None\n",
    "\n",
    "from sklearn.model_selection import train_test_split\n",
    "\n",
    "X_train, X_test, y_train, y_test = train_test_split(None,None, train_size = None, random_state = 10)"
   ]
  },
  {
   "cell_type": "markdown",
   "metadata": {
    "id": "WjR9MqGMpJ82"
   },
   "source": [
    "**TEST** (DON'T EDIT THIS CELL)"
   ]
  },
  {
   "cell_type": "code",
   "execution_count": null,
   "metadata": {
    "id": "q5ZtYcaxKzFK"
   },
   "outputs": [],
   "source": [
    "# DON'T EDIT THIS CELL\n",
    "\n",
    "if (len(X_train)==11880 and len(X_test)==1320):\n",
    "  print(f\"\\033[32mTest Passed\\033[0m\")\n",
    "else:\n",
    "  print(f\"\\033[31mTest Failed\\033[0m\")\n",
    "\n",
    "if (len(y_train)==11880 and len(y_test)==1320):\n",
    "  print(f\"\\033[32mTest Passed\\033[0m\")\n",
    "else:\n",
    "  print(f\"\\033[31mTest Failed\\033[0m\")"
   ]
  },
  {
   "cell_type": "code",
   "execution_count": null,
   "metadata": {
    "id": "uwYLbRwPzNBd"
   },
   "outputs": [],
   "source": [
    "X_train.head()"
   ]
  },
  {
   "cell_type": "markdown",
   "metadata": {
    "id": "upeKo2UVs8WH"
   },
   "source": [
    "# Training and Testing\n",
    "Use any suitable classifier to fit the training data and check the accuracy on test data\n",
    "\n",
    "Don't forget to import that library"
   ]
  },
  {
   "cell_type": "markdown",
   "metadata": {
    "id": "amPA5lMY3adM"
   },
   "source": [
    "**CODE**\n",
    "\n",
    "ACCURACY should be more than 90%,\n",
    "\n",
    "1. Fit the model to X_train and y_train\n",
    "2. Find the model score on X_test and y_test"
   ]
  },
  {
   "cell_type": "code",
   "execution_count": null,
   "metadata": {
    "id": "yei6MWgW0Si9"
   },
   "outputs": [],
   "source": [
    "# START CODE HERE\n",
    "\n",
    "from None import None\n",
    "\n",
    "model =\n",
    "model.fit(None,None)\n",
    "score = model.score(X_test,y_test)\n",
    "\n",
    "# END CODE HERE\n",
    "\n",
    "print(\"Accuracy:\", score*100)"
   ]
  },
  {
   "cell_type": "markdown",
   "metadata": {
    "id": "gv0LHa5FuDSU"
   },
   "source": [
    "**TEST** (DON'T EDIT THIS CELL)"
   ]
  },
  {
   "cell_type": "code",
   "execution_count": null,
   "metadata": {
    "id": "WYopYL5MuAam"
   },
   "outputs": [],
   "source": [
    "# DON'T EDIT THIS CELL\n",
    "\n",
    "if (score>0.90):\n",
    "  print(f\"\\033[32mTest Passed\\033[0m\")\n",
    "else:\n",
    "  print(f\"\\033[31mTest Failed\\033[0m\")"
   ]
  },
  {
   "cell_type": "markdown",
   "metadata": {
    "id": "pOnUEVEsuQlA"
   },
   "source": [
    "# Predicting Output (Here, Weather Type) (Optional)"
   ]
  },
  {
   "cell_type": "code",
   "execution_count": null,
   "metadata": {
    "id": "oAvmODuFwDNl"
   },
   "outputs": [],
   "source": [
    "input = X_test.head()\n",
    "input"
   ]
  },
  {
   "cell_type": "code",
   "execution_count": null,
   "metadata": {
    "id": "jZAkEyqUONIc"
   },
   "outputs": [],
   "source": [
    "y = model.predict(input)\n",
    "y"
   ]
  },
  {
   "cell_type": "markdown",
   "metadata": {
    "id": "zuNM1UNPyY7p"
   },
   "source": [
    "Here, the outputs are in numbers. We can perform inverse column transfer for getiing the string values.\n"
   ]
  }
 ],
 "metadata": {
  "colab": {
   "provenance": []
  },
  "kernelspec": {
   "display_name": "Python 3 (ipykernel)",
   "language": "python",
   "name": "python3"
  },
  "language_info": {
   "codemirror_mode": {
    "name": "ipython",
    "version": 3
   },
   "file_extension": ".py",
   "mimetype": "text/x-python",
   "name": "python",
   "nbconvert_exporter": "python",
   "pygments_lexer": "ipython3",
   "version": "3.11.6"
  }
 },
 "nbformat": 4,
 "nbformat_minor": 1
}
